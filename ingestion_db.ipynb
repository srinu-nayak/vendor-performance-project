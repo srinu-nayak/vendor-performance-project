{
 "cells": [
  {
   "cell_type": "code",
   "execution_count": 1,
   "id": "454f42fa",
   "metadata": {},
   "outputs": [],
   "source": [
    "import numpy as np\n",
    "import pandas as pd\n",
    "import os\n",
    "from sqlalchemy import create_engine\n",
    "import time\n",
    "import logging"
   ]
  },
  {
   "cell_type": "code",
   "execution_count": 2,
   "id": "9b1c7b3e",
   "metadata": {},
   "outputs": [],
   "source": [
    "logging.basicConfig(\n",
    "    filename=\"logs/ingestion_db.log\",\n",
    "    level=logging.DEBUG,\n",
    "    format=\"%(asctime)s - %(levelname)s - %(message)s\",\n",
    "    filemode=\"a\"\n",
    ")"
   ]
  },
  {
   "cell_type": "code",
   "execution_count": 3,
   "id": "803bc035",
   "metadata": {},
   "outputs": [],
   "source": [
    "engine = create_engine('sqlite:///inventory.db')\n",
    "\n",
    "def ingest_db(df, table_name, engine):\n",
    "  df.to_sql(table_name, engine, index=False, if_exists='replace')  \n",
    "    \n",
    "def load_raw_data():\n",
    "    '''This function will load the CSVs as DataFrames and ingest into DB'''\n",
    "    start = time.time()\n",
    "    data_dir = 'data'\n",
    "\n",
    "    for file in os.listdir(data_dir):\n",
    "        try:\n",
    "            if file.endswith('.csv'):\n",
    "                file_path = os.path.join(data_dir, file)\n",
    "                df = pd.read_csv(file_path)\n",
    "                logging.info(f'Ingesting {file} into DB...')\n",
    "                ingest_db(df, file[:-4], engine)  # remove .csv from filename\n",
    "        except Exception as e:\n",
    "            logging.error(f'Error processing {file}: {e}')\n",
    "\n",
    "    end = time.time()\n",
    "    total_time = (end - start) / 60\n",
    "    logging.info('------------------ Ingestion Complete ------------------')\n",
    "    logging.info(f'Ingestion completed in {total_time:.2f} minutes')\n"
   ]
  },
  {
   "cell_type": "code",
   "execution_count": 4,
   "id": "a3599795",
   "metadata": {},
   "outputs": [],
   "source": [
    "# if __name__ == '__main__':\n",
    "#     load_raw_data()"
   ]
  }
 ],
 "metadata": {
  "kernelspec": {
   "display_name": ".venv (3.10.0)",
   "language": "python",
   "name": "python3"
  },
  "language_info": {
   "codemirror_mode": {
    "name": "ipython",
    "version": 3
   },
   "file_extension": ".py",
   "mimetype": "text/x-python",
   "name": "python",
   "nbconvert_exporter": "python",
   "pygments_lexer": "ipython3",
   "version": "3.10.0"
  }
 },
 "nbformat": 4,
 "nbformat_minor": 5
}
